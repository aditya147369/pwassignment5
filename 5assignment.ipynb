{
 "cells": [
  {
   "cell_type": "markdown",
   "id": "53d9982a-8b73-461f-bda6-e78649862f92",
   "metadata": {},
   "source": [
    "Q1, Create a vehicle class with an init method having instance variables as name_of_vehicle, max_speed\n",
    "and average_of_vehicle."
   ]
  },
  {
   "cell_type": "code",
   "execution_count": 1,
   "id": "69f52097-6f72-4392-a895-50ab8649751c",
   "metadata": {},
   "outputs": [],
   "source": [
    "class vehicle:\n",
    "    def __init__(self,name_of_vehicle,max_speed,average_of_vehicle):\n",
    "        self.name_of_vehicle = name_of_vehicle\n",
    "        self.max_speed = max_speed\n",
    "        self.average_of_vehicle = average_of_vehicle"
   ]
  },
  {
   "cell_type": "markdown",
   "id": "eae627af-aa7b-4377-a39c-ce61043a4bca",
   "metadata": {},
   "source": [
    "Q2. Create a child class car from the vehicle class created in Que 1, which will inherit the vehicle class.\n",
    "Create a method named seating_capacity which takes capacity as an argument and returns the name of\n",
    "the vehicle and its seating capacity."
   ]
  },
  {
   "cell_type": "code",
   "execution_count": 5,
   "id": "24fde0b4-32ba-4be2-98e7-3dfbe8733a42",
   "metadata": {},
   "outputs": [
    {
     "data": {
      "text/plain": [
       "('BMW', 7)"
      ]
     },
     "execution_count": 5,
     "metadata": {},
     "output_type": "execute_result"
    }
   ],
   "source": [
    "class car(vehicle):\n",
    "    def seating_capacity(self,capacity):\n",
    "        return self.name_of_vehicle,capacity\n",
    "\n",
    "car_obj = car(\"BMW\",280,150)\n",
    "car_obj.seating_capacity(7)"
   ]
  },
  {
   "cell_type": "markdown",
   "id": "273c55bb-35d8-49ba-a8dc-97b353e1ab21",
   "metadata": {},
   "source": [
    "Q3. What is multiple inheritance? Write a python code to demonstrate multiple inheritance."
   ]
  },
  {
   "cell_type": "code",
   "execution_count": 7,
   "id": "353d5405-00b4-49fc-8af8-0550d4758e64",
   "metadata": {},
   "outputs": [
    {
     "name": "stdout",
     "output_type": "stream",
     "text": [
      "this is 1st class method\n",
      "this is 2nd class method\n",
      "this is 3rd class method\n"
     ]
    }
   ],
   "source": [
    "'''Multiple inheritance is process in which a particular class can inherit multiple classes\n",
    "and it can use all the methods from those classes as well as it can use its own methods \n",
    "also'''\n",
    "\n",
    "class first:\n",
    "    def first_method(self):\n",
    "        print(\"this is 1st class method\")\n",
    "\n",
    "class second:\n",
    "    def second_method(self):\n",
    "        print(\"this is 2nd class method\")\n",
    "\n",
    "class third(first,second):\n",
    "    def third_method(self):\n",
    "        print(\"this is 3rd class method\")\n",
    "\n",
    "third_obj = third()\n",
    "third_obj.first_method()\n",
    "third_obj.second_method()\n",
    "third_obj.third_method()"
   ]
  },
  {
   "cell_type": "markdown",
   "id": "fc4c5532-569d-4ff0-9a03-dbacab2fa6ba",
   "metadata": {},
   "source": [
    "Q4. What are getter and setter in python? Create a class and create a getter and a setter method in this\n",
    "class."
   ]
  },
  {
   "cell_type": "code",
   "execution_count": 13,
   "id": "1fad2995-09d3-4d6d-a41d-9ee7c2003f26",
   "metadata": {},
   "outputs": [
    {
     "name": "stdout",
     "output_type": "stream",
     "text": [
      "10\n",
      "20\n"
     ]
    }
   ],
   "source": [
    "'''When we initialize a variable in a class constructor and set it as private for that we \n",
    "use self.__instance_name then we cannot set its value and display it directly for that we \n",
    "can use two fucntions set() and get()'''\n",
    "\n",
    "class set_get:\n",
    "\n",
    "    def __init__(self,num):\n",
    "        self.__num = num\n",
    "\n",
    "    def set(self,set_num):\n",
    "        self.__num=set_num\n",
    "\n",
    "    def get(self):\n",
    "        return self.__num\n",
    "\n",
    "obj = set_get(5)\n",
    "obj.set(10)\n",
    "print(obj.get())\n",
    "obj.set(20)\n",
    "print(obj.get())"
   ]
  },
  {
   "cell_type": "markdown",
   "id": "e99a78a4-bc4b-4120-86db-f7ddad12ed60",
   "metadata": {},
   "source": [
    "Q5.What is method overriding in python? Write a python code to demonstrate method overriding."
   ]
  },
  {
   "cell_type": "code",
   "execution_count": 12,
   "id": "22c592bc-6768-4467-be09-c368443213b4",
   "metadata": {
    "tags": []
   },
   "outputs": [
    {
     "name": "stdout",
     "output_type": "stream",
     "text": [
      "hello world\n"
     ]
    }
   ],
   "source": [
    "'''Method overriding means suppose we have two classes super class and sub class and the \n",
    "sub class is inherited from super class and both the class have a same function example \n",
    "display() so when we make a object of sub class and call the display() the sub class \n",
    "will hide the super class display() and execute the sub classes display() this method \n",
    "overriding ''' \n",
    "\n",
    "class parent:\n",
    "\n",
    "    def display(self):\n",
    "        print(\"hello\")\n",
    "\n",
    "class child(parent):\n",
    "\n",
    "    def display(self):\n",
    "        print(\"hello world\")\n",
    "\n",
    "obj = child()\n",
    "obj.display()"
   ]
  },
  {
   "cell_type": "code",
   "execution_count": null,
   "id": "63d21809-c7e6-44a4-b328-f8081afb0aeb",
   "metadata": {},
   "outputs": [],
   "source": []
  }
 ],
 "metadata": {
  "kernelspec": {
   "display_name": "Python 3 (ipykernel)",
   "language": "python",
   "name": "python3"
  },
  "language_info": {
   "codemirror_mode": {
    "name": "ipython",
    "version": 3
   },
   "file_extension": ".py",
   "mimetype": "text/x-python",
   "name": "python",
   "nbconvert_exporter": "python",
   "pygments_lexer": "ipython3",
   "version": "3.10.8"
  }
 },
 "nbformat": 4,
 "nbformat_minor": 5
}
